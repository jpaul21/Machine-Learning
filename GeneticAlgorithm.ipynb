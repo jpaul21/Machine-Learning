{
 "cells": [
  {
   "cell_type": "code",
   "execution_count": 126,
   "id": "91c330aa",
   "metadata": {},
   "outputs": [
    {
     "data": {
      "image/png": "[encoded data removed]",
      "text/plain": [
       "<Figure size 432x288 with 1 Axes>"
      ]
     },
     "metadata": {},
     "output_type": "display_data"
    }
   ],
   "source": [
    "import random\n",
    "import numpy as np\n",
    "import matplotlib.pyplot as plt\n",
    "from sklearn.model_selection import train_test_split\n",
    "\n",
    "# Display data\n",
    "plt.style.use('seaborn-whitegrid')\n",
    "noise_scale = 100\n",
    "num_of_samp = 50\n",
    "x = 25*(np.random.rand(num_of_samp,1) - 0.8)                                      # x[rand Real values]\n",
    "y = 7 * x + 15 * x**2 + 1 * x**3 + noise_scale*np.random.randn(num_of_samp,1)     # Simulated dataset\n",
    "plt.plot(x,y,'ro')\n",
    "\n",
    "# Make population of random hypotheses\n",
    "pop = np.zeros((8,8))\n",
    "degrees = np.arange(1,9,1)\n",
    "x = x.flatten()\n",
    "y = y.flatten()\n",
    "\n",
    "# Split Data 80:20 (Train:Test)\n",
    "x_train, x_test, y_train, y_test = train_test_split(x, y, test_size=0.2, random_state=42)\n",
    "\n",
    "# fill pop[] with hypotheses\n",
    "for i in range(1,9):\n",
    "    p = np.polyfit(x, y, i)\n",
    "    for j in range(p.size):\n",
    "        pop[i-1][j] = p[j]\n",
    "        if i == 8:\n",
    "            break"
   ]
  },
  {
   "cell_type": "code",
   "execution_count": 127,
   "id": "585f575e",
   "metadata": {},
   "outputs": [],
   "source": [
    "# Genetic Operator Definitions\n",
    "# Uniform Random Crossover\n",
    "def ranCrossover(os, os1):\n",
    "    mutation = [0]*8\n",
    "    crossoverPoint = np.random.choice([0,1], size=(8,))   \n",
    "    for i in range(8):\n",
    "        if crossoverPoint[i] == 1:\n",
    "            mutation[i] = os[i]\n",
    "        else:\n",
    "            mutation[i] = os1[i]\n",
    "    return mutation\n",
    "\n",
    "# Mutation\n",
    "def mutation(population):\n",
    "    allele1, allele2 = random.randint(1,9), random.randint(1,9)\n",
    "    new_pop = population[allele1:allele2+1].reverse()\n",
    "    np.insert(new_pop, 0, population[0:allele1])\n",
    "    np.append(new_pop, population[allele2:])\n",
    "    return new_pop \n",
    "\n",
    "# Fitness Function; lower is better\n",
    "def fit_func(population, x_test, y_test):\n",
    "    fitness_arr = []\n",
    "    tot_fitness = 0\n",
    "    for i in population:\n",
    "        z = np.poly1d(i)\n",
    "        mse = np.square(np.subtract(y_test,z(x_test))).mean()\n",
    "        fitness_arr.append(mse)\n",
    "        tot_fitness = tot_fitness + mse\n",
    "    fitness_arr = fitness_arr/tot_fitness\n",
    "    return fitness_arr\n",
    "\n",
    "# Genetic Algorithm\n",
    "# Max fitness: lower = max\n",
    "def GA(population, Fitness_threshold, p,r, m, x_test, y_test):\n",
    "    mutateSwitch = 0\n",
    "    max_fitness = Fitness_threshold + 1\n",
    "    selection = (1-r)*p\n",
    "    # Learning \n",
    "    while max_fitness > Fitness_threshold:\n",
    "        # Create new generation\n",
    "        newPop = np.zeros(np.shape(population))\n",
    "        fitnesses = fit_func(population, x_test, y_test)\n",
    "        max_fitness = min(fitnesses)\n",
    "        min_fitness = max(fitnesses)\n",
    "        index_max = np.where(fitnesses == min_fitness)\n",
    "        index_min = np.where(fitnesses == max_fitness)\n",
    "        nextGen = random.choices(np.arange(1,9,1), weights=fitnesses)\n",
    "        for i in nextGen:\n",
    "            newPop[i-1] = pop[i-1]\n",
    "        offspring, offspring1 = random.choices(population, weights=fitnesses, k=2)\n",
    "        offspring = ranCrossover(offspring, offspring1)  \n",
    "        mutateSwitch = np.random.choice([0,1], p=[1-m,m])\n",
    "        if mutateSwitch == 1:\n",
    "            offspring = mutation(offspring)\n",
    "        newPop[index_min] = offspring\n",
    "        for j in newPop:\n",
    "            if j not in population:\n",
    "                population[index_min] = j\n",
    "#        fit_func(pop, x_test, y_test)\n",
    "    fitnesses = fit_func(population, x_test, y_test)\n",
    "    index_min = np.where(fitnesses == max_fitness)\n",
    "    print(population[index_min])\n",
    "    poly = population[index_min].flatten()\n",
    "    answer = np.poly1d(poly)\n",
    "    return answer"
   ]
  },
  {
   "cell_type": "code",
   "execution_count": 130,
   "id": "3ed4ad1e",
   "metadata": {},
   "outputs": [
    {
     "name": "stdout",
     "output_type": "stream",
     "text": [
      "[[-1.61322850e-05 -3.80178156e-04  5.58814407e-03  1.77186853e-01\n",
      "   1.56841527e+00  8.73251557e+00 -7.68552806e+00  2.69167966e+01]]\n",
      "            7             6            5          4         3         2\n",
      "-1.613e-05 x - 0.0003802 x + 0.005588 x + 0.1772 x + 1.568 x + 8.733 x - 7.686 x + 26.92\n"
     ]
    },
    {
     "data": {
      "image/png": "[encoded data removed]",
      "text/plain": [
       "<Figure size 432x288 with 1 Axes>"
      ]
     },
     "metadata": {},
     "output_type": "display_data"
    }
   ],
   "source": [
    "coeff = GA(pop, 1e-13, 8, 0.25, 0.001, x_test, y_test)\n",
    "print(coeff)\n",
    "new_x = np.linspace(min(x), max(x))\n",
    "new_y = coeff(new_x)\n",
    "old_coeff = np.polyfit(x,y,4)\n",
    "old_poly = np.poly1d(old_coeff)\n",
    "plt.plot(new_x, old_poly(new_x), label='HW#1')\n",
    "plt.plot(x, y, \"o\", label = 'data')\n",
    "plt.plot(new_x, new_y, label='GA')\n",
    "plt.legend()\n",
    "plt.show()"
   ]
  }
 ],
 "metadata": {
  "kernelspec": {
   "display_name": "Python 3",
   "language": "python",
   "name": "python3"
  },
  "language_info": {
   "codemirror_mode": {
    "name": "ipython",
    "version": 3
   },
   "file_extension": ".py",
   "mimetype": "text/x-python",
   "name": "python",
   "nbconvert_exporter": "python",
   "pygments_lexer": "ipython3",
   "version": "3.8.8"
  }
 },
 "nbformat": 4,
 "nbformat_minor": 5
}
